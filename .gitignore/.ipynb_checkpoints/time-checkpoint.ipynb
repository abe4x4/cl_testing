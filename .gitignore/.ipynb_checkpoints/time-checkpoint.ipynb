{
 "cells": [
  {
   "cell_type": "markdown",
   "id": "d0acaec2-4ea7-49de-873e-7f553c85750e",
   "metadata": {},
   "source": [
    "2024 Summer Olympics will begin on\n",
    "Friday, July 26\n",
    "07/26/2024"
   ]
  },
  {
   "cell_type": "markdown",
   "id": "45fce6c4-0092-4417-a12c-8a3f478a52e1",
   "metadata": {},
   "source": [
    "2026 Winter Olympics will begin on\n",
    "Friday, February 6\n",
    "02/06/2026"
   ]
  },
  {
   "cell_type": "code",
   "execution_count": 2,
   "id": "73de6ed3-4631-4825-ab42-0dc95a2f9e20",
   "metadata": {},
   "outputs": [],
   "source": [
    "from datetime import datetime\n",
    "import time"
   ]
  },
  {
   "cell_type": "code",
   "execution_count": 8,
   "id": "ea1e2e8b-e6ee-431e-a04c-64adedeb5831",
   "metadata": {},
   "outputs": [
    {
     "data": {
      "text/plain": [
       "86400.0"
      ]
     },
     "execution_count": 8,
     "metadata": {},
     "output_type": "execute_result"
    }
   ],
   "source": [
    "#datetime difference in seconds\n",
    "import datetime as dt\n",
    "\n",
    "a = dt.datetime(2013,12,30,23,59,59)\n",
    "b = dt.datetime(2013,12,31,23,59,59)\n",
    "\n",
    "(b-a).total_seconds()"
   ]
  },
  {
   "cell_type": "code",
   "execution_count": 15,
   "id": "7292007f-1629-4787-b9db-851375af9da5",
   "metadata": {},
   "outputs": [
    {
     "name": "stdout",
     "output_type": "stream",
     "text": [
      "2022-03-26 15:04:29.463856\n"
     ]
    }
   ],
   "source": [
    "#print current datetime\n",
    "currentDateTime = datetime.datetime.now()\n",
    "print(currentDateTime)"
   ]
  },
  {
   "cell_type": "code",
   "execution_count": 14,
   "id": "4b579f42-ef8e-433e-ba53-163a7f66b40c",
   "metadata": {},
   "outputs": [
    {
     "name": "stdout",
     "output_type": "stream",
     "text": [
      "1648321447 1648321446834\n"
     ]
    }
   ],
   "source": [
    "#get current time in seconds and milliseconds\n",
    "seconds = int(round(time.time()))\n",
    "milliseconds = int(round(time.time() * 1000))\n",
    "print(seconds, milliseconds)"
   ]
  },
  {
   "cell_type": "code",
   "execution_count": null,
   "id": "7aea6cc9-7195-47b1-9027-266163eccc58",
   "metadata": {},
   "outputs": [],
   "source": []
  }
 ],
 "metadata": {
  "kernelspec": {
   "display_name": "Python 3 (ipykernel)",
   "language": "python",
   "name": "python3"
  },
  "language_info": {
   "codemirror_mode": {
    "name": "ipython",
    "version": 3
   },
   "file_extension": ".py",
   "mimetype": "text/x-python",
   "name": "python",
   "nbconvert_exporter": "python",
   "pygments_lexer": "ipython3",
   "version": "3.9.7"
  }
 },
 "nbformat": 4,
 "nbformat_minor": 5
}
